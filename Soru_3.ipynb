{
 "cells": [
  {
   "cell_type": "code",
   "execution_count": 4,
   "metadata": {},
   "outputs": [],
   "source": [
    "def Anomali_Detect(self):\n",
    "    s=set()\n",
    "    temp=self.head\n",
    "    while(temp)\n",
    "        if temp in s\n",
    "            return \"Anomali Tespit Edildi\"\n",
    "        s.add(temp)\n",
    "        if temp.left\n",
    "            temp.left.Anomali_Detect() #Özyineli işlemle sol tarafı yeni bir agaçmış gibi düşünerek devam etmeye çalıştım.\n",
    "        if temp.right\n",
    "            temp.right.Anomali_Detect() #Özyineli işlemle sağ tarafı yeni bir agaçmış gibi düşünerek devam etmeye çalıştım.\n",
    "    return \"Anomali Yok\"    "
   ]
  },
  {
   "cell_type": "code",
   "execution_count": null,
   "metadata": {},
   "outputs": [],
   "source": []
  },
  {
   "cell_type": "code",
   "execution_count": null,
   "metadata": {},
   "outputs": [],
   "source": []
  }
 ],
 "metadata": {
  "kernelspec": {
   "display_name": "Python 3",
   "language": "python",
   "name": "python3"
  },
  "language_info": {
   "codemirror_mode": {
    "name": "ipython",
    "version": 3
   },
   "file_extension": ".py",
   "mimetype": "text/x-python",
   "name": "python",
   "nbconvert_exporter": "python",
   "pygments_lexer": "ipython3",
   "version": "3.7.4"
  }
 },
 "nbformat": 4,
 "nbformat_minor": 2
}
