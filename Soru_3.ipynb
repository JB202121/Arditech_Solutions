{
 "cells": [
  {
   "cell_type": "code",
   "execution_count": 19,
   "metadata": {},
   "outputs": [
    {
     "name": "stdout",
     "output_type": "stream",
     "text": [
      "Anomali Yok\n",
      "Anomali\n"
     ]
    }
   ],
   "source": [
    "class Node:\n",
    "    def __init__(self):\n",
    "        self.data = []\n",
    "        self.left = None\n",
    "        self.right = None\n",
    "        self.abtr = None\n",
    "def Anomali_Detect(self,s):\n",
    "    temp=self\n",
    "    temp_old=temp\n",
    "    if temp in s:\n",
    "        print(\"Anomali Tespit Edildi\")\n",
    "        return\n",
    "    else: \n",
    "        s.add(temp)\n",
    "    if temp.left:\n",
    "        Anomali_Detect(temp.left,s) #temp.left.Anomali_Detect() #Özyineli işlemle sol tarafı yeni bir agaçmış gibi düşünerek devam etmeye çalıştım.\n",
    "    elif temp.right:\n",
    "        Anomali_Detect(temp.right,s)  #temp.right.Anomali_Detect() #Özyineli işlemle sağ tarafı yeni bir agaçmış gibi düşünerek devam etmeye çalıştım.\n",
    "    else:\n",
    "        print(\"Anomali Yok\")\n",
    "s=set()\n",
    "root=None\n",
    "root=Node()\n",
    "root.left=Node()\n",
    "root.left.right=Node()\n",
    "Anomali_Detect(root,s)\n",
    "\n",
    "s1=set()\n",
    "root1=None\n",
    "root1=Node()\n",
    "root1.left=Node()\n",
    "root1.left.right=root1.left # Anomali oluşturan kısım\n",
    "Anomali_Detect(root1,s1)"
   ]
  },
  {
   "cell_type": "code",
   "execution_count": null,
   "metadata": {},
   "outputs": [],
   "source": []
  },
  {
   "cell_type": "code",
   "execution_count": null,
   "metadata": {},
   "outputs": [],
   "source": []
  }
 ],
 "metadata": {
  "kernelspec": {
   "display_name": "Python 3",
   "language": "python",
   "name": "python3"
  },
  "language_info": {
   "codemirror_mode": {
    "name": "ipython",
    "version": 3
   },
   "file_extension": ".py",
   "mimetype": "text/x-python",
   "name": "python",
   "nbconvert_exporter": "python",
   "pygments_lexer": "ipython3",
   "version": "3.7.4"
  }
 },
 "nbformat": 4,
 "nbformat_minor": 2
}
