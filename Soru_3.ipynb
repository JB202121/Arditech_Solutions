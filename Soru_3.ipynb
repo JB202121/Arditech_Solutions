{
 "cells": [
  {
   "cell_type": "code",
   "execution_count": null,
   "metadata": {},
   "outputs": [],
   "source": [
    "def Anomali_Detect(self):\n",
    "    if self.left:\n",
    "        if self.data==0\n",
    "            self.data=5\n",
    "            self.left.PrintTree()\n",
    "        elif\n",
    "            return \"Anomali Tespit Edildi\"\n",
    "    if self.right:\n",
    "        if self.data==0\n",
    "            self.data=5\n",
    "            self.right.PrintTree()\n",
    "        elif\n",
    "            return \"Anomali Tespit Edildi\""
   ]
  }
 ],
 "metadata": {
  "kernelspec": {
   "display_name": "Python 3",
   "language": "python",
   "name": "python3"
  },
  "language_info": {
   "codemirror_mode": {
    "name": "ipython",
    "version": 3
   },
   "file_extension": ".py",
   "mimetype": "text/x-python",
   "name": "python",
   "nbconvert_exporter": "python",
   "pygments_lexer": "ipython3",
   "version": "3.7.4"
  }
 },
 "nbformat": 4,
 "nbformat_minor": 2
}
