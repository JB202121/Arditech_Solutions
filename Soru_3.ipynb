{
 "cells": [
  {
   "cell_type": "code",
   "execution_count": 4,
   "metadata": {},
   "outputs": [],
   "source": [
    "def Anomali_Detect(self):\n",
    "    if self.left:\n",
    "        if self.data==NULL:\n",
    "            self.data=5\n",
    "            self.left.Anomali_Detect()\n",
    "        elif self.data==5:\n",
    "            return \"Anomali Tespit Edildi\"\n",
    "    if self.right:\n",
    "        if self.data==NULL:\n",
    "            self.data=5\n",
    "            self.right.Anomali_Detect()\n",
    "        elif self.data==5:\n",
    "            return \"Anomali Tespit Edildi\""
   ]
  },
  {
   "cell_type": "code",
   "execution_count": null,
   "metadata": {},
   "outputs": [],
   "source": []
  },
  {
   "cell_type": "code",
   "execution_count": null,
   "metadata": {},
   "outputs": [],
   "source": []
  }
 ],
 "metadata": {
  "kernelspec": {
   "display_name": "Python 3",
   "language": "python",
   "name": "python3"
  },
  "language_info": {
   "codemirror_mode": {
    "name": "ipython",
    "version": 3
   },
   "file_extension": ".py",
   "mimetype": "text/x-python",
   "name": "python",
   "nbconvert_exporter": "python",
   "pygments_lexer": "ipython3",
   "version": "3.7.4"
  }
 },
 "nbformat": 4,
 "nbformat_minor": 2
}
