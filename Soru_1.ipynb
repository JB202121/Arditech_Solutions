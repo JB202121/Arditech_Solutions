{
 "cells": [
  {
   "cell_type": "code",
   "execution_count": 26,
   "metadata": {},
   "outputs": [
    {
     "data": {
      "text/plain": [
       "'uyumlu'"
      ]
     },
     "execution_count": 26,
     "metadata": {},
     "output_type": "execute_result"
    }
   ],
   "source": [
    "def büyük_ünlü (string):\n",
    "\n",
    "    kalin_sesli=\"a\", \"ı\", \"u\", \"o\"\n",
    "    ince_sesli=\"e\", \"i\", \"ü\", \"ö\"\n",
    "    k_sayac=0\n",
    "    i_sayac=0\n",
    "    for harf in string:\n",
    "        if harf in kalin_sesli:\n",
    "            k_sayac+=1\n",
    "        elif harf in ince_sesli:\n",
    "            i_sayac+=1\n",
    "    if k_sayac==0 and i_sayac==0:\n",
    "        return \"Büyük ünlü uyumu aranmaz\"\n",
    "    elif k_sayac==0 or i_sayac==0:\n",
    "        return \"uyumlu\"\n",
    "    else:\n",
    "        return \"uyumsuz\"\n",
    "büyük_ünlü(\"Deneme\")"
   ]
  },
  {
   "cell_type": "code",
   "execution_count": null,
   "metadata": {},
   "outputs": [],
   "source": []
  },
  {
   "cell_type": "code",
   "execution_count": null,
   "metadata": {},
   "outputs": [],
   "source": []
  }
 ],
 "metadata": {
  "kernelspec": {
   "display_name": "Python 3",
   "language": "python",
   "name": "python3"
  },
  "language_info": {
   "codemirror_mode": {
    "name": "ipython",
    "version": 3
   },
   "file_extension": ".py",
   "mimetype": "text/x-python",
   "name": "python",
   "nbconvert_exporter": "python",
   "pygments_lexer": "ipython3",
   "version": "3.7.4"
  }
 },
 "nbformat": 4,
 "nbformat_minor": 2
}
