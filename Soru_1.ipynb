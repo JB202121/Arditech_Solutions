{
 "cells": [
  {
   "cell_type": "code",
   "execution_count": 3,
   "metadata": {},
   "outputs": [
    {
     "data": {
      "text/plain": [
       "'uyumlu'"
      ]
     },
     "execution_count": 3,
     "metadata": {},
     "output_type": "execute_result"
    }
   ],
   "source": [
    "def büyük_ünlü (string):\n",
    "\n",
    "    sesli=\"a\", \"ı\", \"u\", \"o\",\"e\", \"i\", \"ü\", \"ö\"\n",
    "    kalin_sesli=\"a\", \"ı\", \"u\", \"o\"\n",
    "    ince_sesli=\"e\", \"i\", \"ü\", \"ö\"\n",
    "    s_sayac=0;\n",
    "    for harf in string:\n",
    "        if harf in sesli:\n",
    "            s_sayac+=1         \n",
    "    if s_sayac==1:\n",
    "        return \"Büyük ünlü uyumu aranmaz\"\n",
    "    k_sayac=0\n",
    "    i_sayac=0\n",
    "    for harf in string:\n",
    "        if harf in kalin_sesli:\n",
    "            k_sayac+=1\n",
    "        elif harf in ince_sesli:\n",
    "            i_sayac+=1\n",
    "    if k_sayac>0:\n",
    "        if i_sayac!=0:\n",
    "            return \"uyumsuz\"\n",
    "        elif i_sayac==0:\n",
    "            return \"uyumlu\"\n",
    "    elif k_sayac==0:\n",
    "        if i_sayac>0:\n",
    "            return \"uyumlu\"\n",
    "büyük_ünlü(\"deneme\")"
   ]
  },
  {
   "cell_type": "code",
   "execution_count": null,
   "metadata": {},
   "outputs": [],
   "source": []
  },
  {
   "cell_type": "code",
   "execution_count": null,
   "metadata": {},
   "outputs": [],
   "source": []
  }
 ],
 "metadata": {
  "kernelspec": {
   "display_name": "Python 3",
   "language": "python",
   "name": "python3"
  },
  "language_info": {
   "codemirror_mode": {
    "name": "ipython",
    "version": 3
   },
   "file_extension": ".py",
   "mimetype": "text/x-python",
   "name": "python",
   "nbconvert_exporter": "python",
   "pygments_lexer": "ipython3",
   "version": "3.7.4"
  }
 },
 "nbformat": 4,
 "nbformat_minor": 2
}
